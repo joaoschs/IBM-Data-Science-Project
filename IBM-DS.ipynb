{
  "nbformat": 4,
  "nbformat_minor": 0,
  "metadata": {
    "colab": {
      "provenance": [],
      "toc_visible": true
    },
    "kernelspec": {
      "name": "python3",
      "display_name": "Python 3"
    },
    "language_info": {
      "name": "python"
    }
  },
  "cells": [
    {
      "cell_type": "markdown",
      "source": [
        "##IBM Data Science Project"
      ],
      "metadata": {
        "id": "ugDXmzyydvBE"
      }
    },
    {
      "cell_type": "markdown",
      "source": [
        "## Introduction\n",
        "This notebook covers various exercises related to data science concepts, tools, and basic operations.\n"
      ],
      "metadata": {
        "id": "fTnJpcCAemk-"
      }
    },
    {
      "cell_type": "markdown",
      "source": [
        "## Data Science Languages\n",
        "- Python\n",
        "- R\n",
        "- SQL\n",
        "- Julia\n",
        "- Scala\n"
      ],
      "metadata": {
        "id": "AJ5S0gMdetHt"
      }
    },
    {
      "cell_type": "markdown",
      "source": [
        "## Data Science Libraries\n",
        "- Pandas\n",
        "- NumPy\n",
        "- Matplotlib\n",
        "- Seaborn\n",
        "- Scikit-learn\n",
        "- TensorFlow\n",
        "- Keras\n"
      ],
      "metadata": {
        "id": "0D2amAW1eyHf"
      }
    },
    {
      "cell_type": "markdown",
      "source": [
        "## Data Science Tools\n",
        "\n",
        "| Tool           | Purpose                |\n",
        "|----------------|------------------------|\n",
        "| Jupyter Notebook | Interactive coding environment |\n",
        "| RStudio        | IDE for R              |\n",
        "| Apache Spark   | Big data processing    |\n",
        "| Tableau        | Data visualization     |\n",
        "| Excel          | Data analysis          |\n"
      ],
      "metadata": {
        "id": "kYwoPijOe3RI"
      }
    },
    {
      "cell_type": "markdown",
      "source": [
        "## Arithmetic Expressions Examples\n",
        "- Addition: `5 + 3`\n",
        "- Subtraction: `10 - 2`\n",
        "- Multiplication: `4 * 2`\n",
        "- Division: `8 / 2`\n"
      ],
      "metadata": {
        "id": "_6Xr_eQ7fA6m"
      }
    },
    {
      "cell_type": "code",
      "source": [
        "def addition(a,b):\n",
        "  return a+b\n",
        "\n",
        "def multiplication(a,b):\n",
        "  return a*b"
      ],
      "metadata": {
        "id": "BbtUQu_6foUo"
      },
      "execution_count": 2,
      "outputs": []
    },
    {
      "cell_type": "code",
      "source": [
        "addition(5,3)"
      ],
      "metadata": {
        "colab": {
          "base_uri": "https://localhost:8080/"
        },
        "id": "3oOeas8ef4zB",
        "outputId": "d8c488eb-f492-48bc-8d4b-fa9e0d3de71b"
      },
      "execution_count": 3,
      "outputs": [
        {
          "output_type": "execute_result",
          "data": {
            "text/plain": [
              "8"
            ]
          },
          "metadata": {},
          "execution_count": 3
        }
      ]
    },
    {
      "cell_type": "code",
      "source": [
        "multiplication(5,3)"
      ],
      "metadata": {
        "colab": {
          "base_uri": "https://localhost:8080/"
        },
        "id": "m52CAdr_f9iH",
        "outputId": "b6408a04-ef4b-4f0c-96c8-040b7ac7a67a"
      },
      "execution_count": 4,
      "outputs": [
        {
          "output_type": "execute_result",
          "data": {
            "text/plain": [
              "15"
            ]
          },
          "metadata": {},
          "execution_count": 4
        }
      ]
    },
    {
      "cell_type": "code",
      "source": [
        "def min_to_hour(minutes):\n",
        "  return minutes/60"
      ],
      "metadata": {
        "id": "5zRo-SWfgAqG"
      },
      "execution_count": 6,
      "outputs": []
    },
    {
      "cell_type": "code",
      "source": [
        "min_to_hour(550)"
      ],
      "metadata": {
        "colab": {
          "base_uri": "https://localhost:8080/"
        },
        "id": "glZNfMQogJqL",
        "outputId": "83389265-3337-49e7-d024-ef6637450e96"
      },
      "execution_count": 7,
      "outputs": [
        {
          "output_type": "execute_result",
          "data": {
            "text/plain": [
              "9.166666666666666"
            ]
          },
          "metadata": {},
          "execution_count": 7
        }
      ]
    },
    {
      "cell_type": "markdown",
      "source": [
        "## Objectives\n",
        "- Practice data science operations in Python\n",
        "- Familiarize with Jupyter Notebook\n"
      ],
      "metadata": {
        "id": "08A-P3NOgRIR"
      }
    },
    {
      "cell_type": "markdown",
      "source": [
        "## Author\n",
        "- João Gabriel Sanches\n"
      ],
      "metadata": {
        "id": "fAXvFZQPgcUU"
      }
    }
  ]
}